{
 "cells": [
  {
   "cell_type": "code",
   "execution_count": 1,
   "metadata": {
    "collapsed": true
   },
   "outputs": [],
   "source": [
    "import numpy as np"
   ]
  },
  {
   "cell_type": "code",
   "execution_count": 24,
   "metadata": {
    "collapsed": true
   },
   "outputs": [],
   "source": [
    "class Node:\n",
    "    def __init__(self):\n",
    "        self.left_child = None\n",
    "        self.right_child = None\n",
    "        self.data = None\n",
    "        self.is_leaf = None\n",
    "        self.pure = None\n",
    "        self.f = None\n",
    "        self.t = None\n",
    "        \n",
    "    def is_pure(self):\n",
    "        if self.pure == None:\n",
    "            if len(set(self.data[:,-1])) != 1:\n",
    "                self.pure = False\n",
    "                return False\n",
    "            else:\n",
    "                self.pure = True\n",
    "                return True\n",
    "        else:\n",
    "            return self.pure\n",
    "        \n",
    "    def find_splitting_rule():\n",
    "        pass"
   ]
  },
  {
   "cell_type": "code",
   "execution_count": 8,
   "metadata": {
    "collapsed": true
   },
   "outputs": [],
   "source": [
    "def read_file(filename):\n",
    "    f = open(filename, 'r')\n",
    "    ls = []\n",
    "    lines = f.readlines()\n",
    "    for line in lines:\n",
    "        if line:\n",
    "            content = line.strip().split()\n",
    "            ls.append([float(x) for x in content])\n",
    "        \n",
    "    f.close()\n",
    "    ls = np.asarray(ls)\n",
    "    return ls"
   ]
  },
  {
   "cell_type": "code",
   "execution_count": 25,
   "metadata": {
    "collapsed": false
   },
   "outputs": [],
   "source": [
    "train_data = read_file('pa2train.txt')\n",
    "num_of_samples = train_data.shape[0]\n",
    "num_of_features = train_data.shape[1] - 1"
   ]
  },
  {
   "cell_type": "code",
   "execution_count": 30,
   "metadata": {
    "collapsed": false
   },
   "outputs": [],
   "source": [
    "impure_nodes = []\n",
    "root = Node()\n",
    "root.data = train_data\n",
    "if root.is_pure():\n",
    "    print('root is pure. No need to continue.')\n",
    "else:\n",
    "    impure_nodes.append(root)\n",
    "    \n",
    "while(impure_nodes):\n",
    "    cur = impure_nodes.pop()\n",
    "    "
   ]
  },
  {
   "cell_type": "code",
   "execution_count": null,
   "metadata": {
    "collapsed": true
   },
   "outputs": [],
   "source": []
  }
 ],
 "metadata": {
  "kernelspec": {
   "display_name": "Python 3",
   "language": "python",
   "name": "python3"
  },
  "language_info": {
   "codemirror_mode": {
    "name": "ipython",
    "version": 3
   },
   "file_extension": ".py",
   "mimetype": "text/x-python",
   "name": "python",
   "nbconvert_exporter": "python",
   "pygments_lexer": "ipython3",
   "version": "3.6.0"
  }
 },
 "nbformat": 4,
 "nbformat_minor": 2
}
